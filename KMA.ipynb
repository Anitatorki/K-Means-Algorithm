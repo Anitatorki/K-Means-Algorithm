{
 "cells": [
  {
   "cell_type": "code",
   "execution_count": 48,
   "id": "4ff96049-b0c5-4270-8a2d-96c7dac79516",
   "metadata": {},
   "outputs": [],
   "source": [
    "import sklearn\n",
    "from sklearn.datasets import load_digits\n",
    "import matplotlib.pyplot as plt\n",
    "import numpy as np\n",
    "from sklearn.cluster import KMeans\n",
    "from sklearn.model_selection import train_test_split\n",
    "from sklearn import metrics"
   ]
  },
  {
   "cell_type": "code",
   "execution_count": 49,
   "id": "09d76ffa-3fee-4844-8cd5-982e47fc57f6",
   "metadata": {},
   "outputs": [],
   "source": [
    "data = load_digits()\n",
    "X = data.data\n",
    "y = data.target"
   ]
  },
  {
   "cell_type": "code",
   "execution_count": 50,
   "id": "9c9e41db-aa37-4815-8dff-d1344e846420",
   "metadata": {},
   "outputs": [],
   "source": [
    "x_train, x_test, y_train, y_test = train_test_split(X,y , test_size=0.2)\n"
   ]
  },
  {
   "cell_type": "code",
   "execution_count": 51,
   "id": "b7bb7ac8-3f9b-411b-a743-9d659cc44d42",
   "metadata": {},
   "outputs": [],
   "source": [
    "model = KMeans(n_clusters=10, init=\"random\", n_init=20)\n"
   ]
  },
  {
   "cell_type": "code",
   "execution_count": 43,
   "id": "1be0783b-74cb-4475-8f7b-76c0b8a7de29",
   "metadata": {},
   "outputs": [
    {
     "name": "stdout",
     "output_type": "stream",
     "text": [
      "24 336\n"
     ]
    }
   ],
   "source": [
    "# true = 0\n",
    "# false = 0\n",
    "# for i in range(len(x_test)):\n",
    "#     if predications[i]==y_test[i]:\n",
    "#         true+=1\n",
    "#     else:\n",
    "#         false+=1\n",
    "# print(true, false)"
   ]
  },
  {
   "cell_type": "code",
   "execution_count": 47,
   "id": "39fd861d-3d00-4d03-8958-d8c458ae117b",
   "metadata": {},
   "outputs": [
    {
     "name": "stdout",
     "output_type": "stream",
     "text": [
      "{0: 178, 1: 182, 2: 177, 3: 183, 4: 181, 5: 182, 6: 181, 7: 179, 8: 174, 9: 180}\n"
     ]
    }
   ],
   "source": [
    "# samples ={}\n",
    "\n",
    "# for i in data.target:\n",
    "#     if i not in samples:\n",
    "#         samples[i]=1\n",
    "#     else:\n",
    "#         samples[i]+=1\n",
    "# print(samples)"
   ]
  },
  {
   "cell_type": "code",
   "execution_count": 52,
   "id": "d9d61b2c-6062-4f18-b286-44675fd1c004",
   "metadata": {},
   "outputs": [],
   "source": [
    "def bench_k_means(estimator, name, data):\n",
    "    estimator.fit(data)\n",
    "    print('%-9s\\t%i\\t%.3f\\t%.3f\\t%.3f\\t%.3f\\t%.3f\\t%.3f'\n",
    "          % (name, estimator.inertia_,\n",
    "             metrics.homogeneity_score(y, estimator.labels_),\n",
    "             metrics.completeness_score(y, estimator.labels_),\n",
    "             metrics.v_measure_score(y, estimator.labels_),\n",
    "             metrics.adjusted_rand_score(y, estimator.labels_),\n",
    "             metrics.adjusted_mutual_info_score(y,  estimator.labels_),\n",
    "             metrics.silhouette_score(data, estimator.labels_, metric='euclidean')))"
   ]
  },
  {
   "cell_type": "code",
   "execution_count": 53,
   "id": "f836851c-d62c-44f6-a870-ebf6725254f9",
   "metadata": {},
   "outputs": [
    {
     "name": "stdout",
     "output_type": "stream",
     "text": [
      "1        \t1165131\t0.738\t0.746\t0.742\t0.665\t0.740\t0.182\n"
     ]
    }
   ],
   "source": [
    "bench_k_means(model, \"1\", X)"
   ]
  },
  {
   "cell_type": "code",
   "execution_count": null,
   "id": "5233835e-73f8-42ac-af86-d13971618f55",
   "metadata": {},
   "outputs": [],
   "source": []
  }
 ],
 "metadata": {
  "kernelspec": {
   "display_name": "Python 3 (ipykernel)",
   "language": "python",
   "name": "python3"
  },
  "language_info": {
   "codemirror_mode": {
    "name": "ipython",
    "version": 3
   },
   "file_extension": ".py",
   "mimetype": "text/x-python",
   "name": "python",
   "nbconvert_exporter": "python",
   "pygments_lexer": "ipython3",
   "version": "3.11.1"
  }
 },
 "nbformat": 4,
 "nbformat_minor": 5
}
